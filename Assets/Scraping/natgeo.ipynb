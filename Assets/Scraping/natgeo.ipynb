{
 "cells": [
  {
   "cell_type": "markdown",
   "metadata": {},
   "source": [
    "## NatGeo Scraping"
   ]
  },
  {
   "cell_type": "markdown",
   "metadata": {},
   "source": [
    "Scraping data from [National Geographics website](https://www.nationalgeographic.com/animals/photos/)"
   ]
  },
  {
   "cell_type": "code",
   "execution_count": null,
   "metadata": {},
   "outputs": [],
   "source": [
    "from selenium import webdriver\n",
    "from selenium.webdriver.chrome.options import Options\n",
    "import re\n",
    "import time\n",
    "import json"
   ]
  },
  {
   "cell_type": "code",
   "execution_count": null,
   "metadata": {},
   "outputs": [],
   "source": [
    "chrome_options = Options()\n",
    "chrome_options.add_argument(\"--kiosk\")\n",
    "driver = webdriver.Chrome(chrome_options=chrome_options)"
   ]
  },
  {
   "cell_type": "code",
   "execution_count": null,
   "metadata": {},
   "outputs": [],
   "source": [
    "#put the url here\n",
    "url = \"https://www.nationalgeographic.com/animals/2019/08/favorite-camera-trap-wildlife-photography/\"\n",
    "driver.get(url)\n",
    "driver.implicitly_wait(30)"
   ]
  },
  {
   "cell_type": "code",
   "execution_count": null,
   "metadata": {},
   "outputs": [],
   "source": [
    "def scrap():\n",
    "    result = driver.find_element_by_class_name(\"inline-gallery__wrapper\").find_elements_by_class_name(\"swiper-slide\")\n",
    "    data_image = []\n",
    "    for data in range(len(result)-1):\n",
    "        image = driver.find_element_by_class_name(\"swiper-slide-active\").find_element_by_tag_name(\"source\").get_attribute('srcset').split(\" \")\n",
    "        data_image.append({\n",
    "            'image_src':image[34]\n",
    "        })\n",
    "        try:\n",
    "            driver.find_element_by_xpath(\"/html/body/div[3]/section/article/div[1]/div/div[1]/div/div/div/div/div[2]/div/div[2]/div[2]\").click()\n",
    "        except NoSuchElementException as e:\n",
    "            break;\n",
    "        time.sleep(3)"
   ]
  },
  {
   "cell_type": "code",
   "execution_count": null,
   "metadata": {},
   "outputs": [],
   "source": [
    "scrap()"
   ]
  },
  {
   "cell_type": "code",
   "execution_count": null,
   "metadata": {},
   "outputs": [],
   "source": [
    "with open('natgeo2.json', 'w') as file:\n",
    "    json.dump(data_image, file, indent=4)"
   ]
  }
 ],
 "metadata": {
  "kernelspec": {
   "display_name": "Python 3",
   "language": "python",
   "name": "python3"
  },
  "language_info": {
   "codemirror_mode": {
    "name": "ipython",
    "version": 3
   },
   "file_extension": ".py",
   "mimetype": "text/x-python",
   "name": "python",
   "nbconvert_exporter": "python",
   "pygments_lexer": "ipython3",
   "version": "3.8.2"
  }
 },
 "nbformat": 4,
 "nbformat_minor": 4
}
